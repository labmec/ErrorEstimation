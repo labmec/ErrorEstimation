{
 "cells": [
  {
   "cell_type": "code",
   "execution_count": 1,
   "metadata": {},
   "outputs": [
    {
     "name": "stdout",
     "output_type": "stream",
     "text": [
      "Creation of the directory TestePythonSinSin failed. The directory already exists!\n"
     ]
    }
   ],
   "source": [
    "import os\n",
    "\n",
    "from neopz import *\n",
    "from errorestimation import *\n",
    "\n",
    "InitializePZLog()\n",
    "Initialize2DUniformRefPatterns()\n",
    "\n",
    "coord0 = TPZManVectorReal(3, 0.)\n",
    "coord1 = TPZManVectorReal(3, 1.)\n",
    "coord1[2] = 0.\n",
    "\n",
    "bcIDs = TPZManVectorInt(4)\n",
    "bcIDs[0] = -1\n",
    "bcIDs[1] = -1\n",
    "bcIDs[2] = -1\n",
    "bcIDs[3] = -1\n",
    "\n",
    "x_nel = 2\n",
    "y_nel = 2\n",
    "\n",
    "gmesh = Create2DGridMesh(x_nel, y_nel, coord0, coord1, bcIDs)\n",
    "\n",
    "cfg = ProblemConfig()\n",
    "cfg.NDivisions = 2\n",
    "\n",
    "UniformRefinement(cfg.NDivisions, gmesh)\n",
    "\n",
    "PrintGMeshToVTK(gmesh, \"GMeshAfterRefinement.vtk\")\n",
    "PrintGMeshToTXT(gmesh, \"GMeshAfterRefinementPython.txt\")\n",
    "\n",
    "cfg.gmesh = gmesh\n",
    "cfg.Porder = 1\n",
    "cfg.Hdivmais = 0\n",
    "cfg.Dimension = 2\n",
    "cfg.Prefine = False\n",
    "cfg.Makepressurecontinuous = True\n",
    "cfg.AdaptivityStep = 2\n",
    "cfg.TensorNonConst = False\n",
    "\n",
    "cfg.Materialids = {1}\n",
    "cfg.Bcmaterialids = {-1}\n",
    "cfg.Problemname = \"EPython\"\n",
    "cfg.DirName = \"TestePythonSinSin\"\n",
    "cfg.Exact.Exact = TLaplaceExample.ExactSol.ESinSin\n",
    "\n",
    "multiphysicsCMesh = CreateHybridMultiphysicsMesh(cfg)\n",
    "\n",
    "SolveHybridProblem(multiphysicsCMesh, cfg)\n",
    "\n",
    "try:\n",
    "    os.mkdir(cfg.DirName)\n",
    "except OSError:\n",
    "    print (\"Creation of the directory %s failed. The directory already exists!\" % cfg.DirName)\n",
    "else:\n",
    "    print (\"Successfully created the directory %s\" % cfg.DirName)\n",
    "\n",
    "resultsFileH1 = cfg.DirName + \"/H1ReconstructionErrors.vtk\"\n",
    "EstimateErrorWithH1Reconstruction(multiphysicsCMesh, cfg, resultsFileH1)\n",
    "\n",
    "resultsFileHdiv = cfg.DirName + \"/HdivReconstructionErrors.vtk\"\n",
    "EstimateErrorWithHdivReconstruction(multiphysicsCMesh, cfg, resultsFileHdiv)\n"
   ]
  },
  {
   "cell_type": "code",
   "execution_count": 9,
   "metadata": {},
   "outputs": [
    {
     "data": {
      "application/vnd.jupyter.widget-view+json": {
       "model_id": "b2c6e103f87f451c80adcddd77ef6060",
       "version_major": 2,
       "version_minor": 0
      },
      "text/plain": [
       "Viewer(geometries=[{'vtkClass': 'vtkPolyData', 'points': {'vtkClass': 'vtkPoints', 'name': '_points', 'numberO…"
      ]
     },
     "metadata": {},
     "output_type": "display_data"
    }
   ],
   "source": [
    "import vtk\n",
    "from itkwidgets import view\n",
    "\n",
    "H1ReconstructionFileName = resultsFileH1[:-3] + 'scal_vec.0.vtk'\n",
    "HDivReconstructionFileName = resultsFileHdiv[:-3] + 'scal_vec.0.vtk'\n",
    "\n",
    "reader = vtk.vtkUnstructuredGridReader()\n",
    "reader.SetFileName(H1ReconstructionFileName)\n",
    "reader.ReadAllScalarsOn()\n",
    "reader.ReadAllVectorsOn()\n",
    "reader.Update()\n",
    "grid = reader.GetOutput()\n",
    "view(geometries = grid)\n"
   ]
  },
  {
   "cell_type": "code",
   "execution_count": null,
   "metadata": {},
   "outputs": [],
   "source": [
    " "
   ]
  }
 ],
 "metadata": {
  "kernelspec": {
   "display_name": "Python 3",
   "language": "python",
   "name": "python3"
  },
  "language_info": {
   "codemirror_mode": {
    "name": "ipython",
    "version": 3
   },
   "file_extension": ".py",
   "mimetype": "text/x-python",
   "name": "python",
   "nbconvert_exporter": "python",
   "pygments_lexer": "ipython3",
   "version": "3.6.8"
  }
 },
 "nbformat": 4,
 "nbformat_minor": 2
}
